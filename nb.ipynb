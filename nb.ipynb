{
 "cells": [
  {
   "cell_type": "code",
   "id": "initial_id",
   "metadata": {
    "collapsed": true,
    "ExecuteTime": {
     "end_time": "2025-03-20T12:26:02.571237Z",
     "start_time": "2025-03-20T12:26:00.941316Z"
    }
   },
   "source": [
    "import matplotlib.pyplot as plt\n",
    "import pandas as pd\n",
    "import torch\n",
    "import torch.nn as nn\n",
    "from IPython.display import clear_output\n",
    "from torch.distributions.categorical import Categorical\n",
    "from torch.nn.utils.rnn import pack_padded_sequence, pad_packed_sequence\n",
    "from torch.utils.data import Dataset, DataLoader"
   ],
   "outputs": [],
   "execution_count": 1
  },
  {
   "metadata": {
    "ExecuteTime": {
     "end_time": "2025-03-20T12:26:02.701462Z",
     "start_time": "2025-03-20T12:26:02.575897Z"
    }
   },
   "cell_type": "code",
   "source": [
    "data = pd.read_csv('horror.csv')\n",
    "data.head()"
   ],
   "id": "bb6b2791b88d5836",
   "outputs": [
    {
     "data": {
      "text/plain": [
       "     movie_id          movie_name  year certificate  runtime  \\\n",
       "0  tt15679400  Knock at the Cabin  2023           R  100 min   \n",
       "1   tt9764362            The Menu  2022           R  107 min   \n",
       "2   tt8760708               M3GAN  2022       PG-13  102 min   \n",
       "3  tt13051810         Viking Wolf  2022       TV-MA   97 min   \n",
       "4  tt10365998       Infinity Pool  2023           R  117 min   \n",
       "\n",
       "                       genre  rating  \\\n",
       "0  Horror, Mystery, Thriller     6.4   \n",
       "1           Horror, Thriller     7.2   \n",
       "2   Horror, Sci-Fi, Thriller     6.4   \n",
       "3           Horror, Thriller     5.1   \n",
       "4     Crime, Horror, Mystery     6.5   \n",
       "\n",
       "                                         description            director  \\\n",
       "0  While vacationing, a girl and her parents are ...  M. Night Shyamalan   \n",
       "1  A young couple travels to a remote island to e...          Mark Mylod   \n",
       "2  A robotics engineer at a toy company builds a ...    Gerard Johnstone   \n",
       "3  Thale (17) has just moved with her parents to ...       Stig Svendsen   \n",
       "4  James and Em Foster are enjoying an all-inclus...  Brandon Cronenberg   \n",
       "\n",
       "        director_id                                               star  \\\n",
       "0  /name/nm0796117/  Dave Bautista, \\nJonathan Groff, \\nRupert Grin...   \n",
       "1  /name/nm0617042/  Ralph Fiennes, \\nAnya Taylor-Joy, \\nNicholas H...   \n",
       "2  /name/nm2067421/  Allison Williams, \\nViolet McGraw, \\nRonny Chi...   \n",
       "3  /name/nm1457169/  Liv Mjönes, \\nElli Rhiannon Müller Osborne, \\n...   \n",
       "4  /name/nm0188722/  Alexander Skarsgård, \\nMia Goth, \\nCleopatra C...   \n",
       "\n",
       "                                             star_id     votes  gross(in $)  \n",
       "0  /name/nm1176985/,/name/nm2676147/,/name/nm0342...   17991.0          NaN  \n",
       "1  /name/nm0000146/,/name/nm5896355/,/name/nm0396...  232052.0          NaN  \n",
       "2  /name/nm4129745/,/name/nm8627157/,/name/nm5307...   62458.0          NaN  \n",
       "3  /name/nm1203571/,/name/nm9602953/,/name/nm7416...    3872.0          NaN  \n",
       "4  /name/nm0002907/,/name/nm5301405/,/name/nm1671...    6955.0          NaN  "
      ],
      "text/html": [
       "<div>\n",
       "<style scoped>\n",
       "    .dataframe tbody tr th:only-of-type {\n",
       "        vertical-align: middle;\n",
       "    }\n",
       "\n",
       "    .dataframe tbody tr th {\n",
       "        vertical-align: top;\n",
       "    }\n",
       "\n",
       "    .dataframe thead th {\n",
       "        text-align: right;\n",
       "    }\n",
       "</style>\n",
       "<table border=\"1\" class=\"dataframe\">\n",
       "  <thead>\n",
       "    <tr style=\"text-align: right;\">\n",
       "      <th></th>\n",
       "      <th>movie_id</th>\n",
       "      <th>movie_name</th>\n",
       "      <th>year</th>\n",
       "      <th>certificate</th>\n",
       "      <th>runtime</th>\n",
       "      <th>genre</th>\n",
       "      <th>rating</th>\n",
       "      <th>description</th>\n",
       "      <th>director</th>\n",
       "      <th>director_id</th>\n",
       "      <th>star</th>\n",
       "      <th>star_id</th>\n",
       "      <th>votes</th>\n",
       "      <th>gross(in $)</th>\n",
       "    </tr>\n",
       "  </thead>\n",
       "  <tbody>\n",
       "    <tr>\n",
       "      <th>0</th>\n",
       "      <td>tt15679400</td>\n",
       "      <td>Knock at the Cabin</td>\n",
       "      <td>2023</td>\n",
       "      <td>R</td>\n",
       "      <td>100 min</td>\n",
       "      <td>Horror, Mystery, Thriller</td>\n",
       "      <td>6.4</td>\n",
       "      <td>While vacationing, a girl and her parents are ...</td>\n",
       "      <td>M. Night Shyamalan</td>\n",
       "      <td>/name/nm0796117/</td>\n",
       "      <td>Dave Bautista, \\nJonathan Groff, \\nRupert Grin...</td>\n",
       "      <td>/name/nm1176985/,/name/nm2676147/,/name/nm0342...</td>\n",
       "      <td>17991.0</td>\n",
       "      <td>NaN</td>\n",
       "    </tr>\n",
       "    <tr>\n",
       "      <th>1</th>\n",
       "      <td>tt9764362</td>\n",
       "      <td>The Menu</td>\n",
       "      <td>2022</td>\n",
       "      <td>R</td>\n",
       "      <td>107 min</td>\n",
       "      <td>Horror, Thriller</td>\n",
       "      <td>7.2</td>\n",
       "      <td>A young couple travels to a remote island to e...</td>\n",
       "      <td>Mark Mylod</td>\n",
       "      <td>/name/nm0617042/</td>\n",
       "      <td>Ralph Fiennes, \\nAnya Taylor-Joy, \\nNicholas H...</td>\n",
       "      <td>/name/nm0000146/,/name/nm5896355/,/name/nm0396...</td>\n",
       "      <td>232052.0</td>\n",
       "      <td>NaN</td>\n",
       "    </tr>\n",
       "    <tr>\n",
       "      <th>2</th>\n",
       "      <td>tt8760708</td>\n",
       "      <td>M3GAN</td>\n",
       "      <td>2022</td>\n",
       "      <td>PG-13</td>\n",
       "      <td>102 min</td>\n",
       "      <td>Horror, Sci-Fi, Thriller</td>\n",
       "      <td>6.4</td>\n",
       "      <td>A robotics engineer at a toy company builds a ...</td>\n",
       "      <td>Gerard Johnstone</td>\n",
       "      <td>/name/nm2067421/</td>\n",
       "      <td>Allison Williams, \\nViolet McGraw, \\nRonny Chi...</td>\n",
       "      <td>/name/nm4129745/,/name/nm8627157/,/name/nm5307...</td>\n",
       "      <td>62458.0</td>\n",
       "      <td>NaN</td>\n",
       "    </tr>\n",
       "    <tr>\n",
       "      <th>3</th>\n",
       "      <td>tt13051810</td>\n",
       "      <td>Viking Wolf</td>\n",
       "      <td>2022</td>\n",
       "      <td>TV-MA</td>\n",
       "      <td>97 min</td>\n",
       "      <td>Horror, Thriller</td>\n",
       "      <td>5.1</td>\n",
       "      <td>Thale (17) has just moved with her parents to ...</td>\n",
       "      <td>Stig Svendsen</td>\n",
       "      <td>/name/nm1457169/</td>\n",
       "      <td>Liv Mjönes, \\nElli Rhiannon Müller Osborne, \\n...</td>\n",
       "      <td>/name/nm1203571/,/name/nm9602953/,/name/nm7416...</td>\n",
       "      <td>3872.0</td>\n",
       "      <td>NaN</td>\n",
       "    </tr>\n",
       "    <tr>\n",
       "      <th>4</th>\n",
       "      <td>tt10365998</td>\n",
       "      <td>Infinity Pool</td>\n",
       "      <td>2023</td>\n",
       "      <td>R</td>\n",
       "      <td>117 min</td>\n",
       "      <td>Crime, Horror, Mystery</td>\n",
       "      <td>6.5</td>\n",
       "      <td>James and Em Foster are enjoying an all-inclus...</td>\n",
       "      <td>Brandon Cronenberg</td>\n",
       "      <td>/name/nm0188722/</td>\n",
       "      <td>Alexander Skarsgård, \\nMia Goth, \\nCleopatra C...</td>\n",
       "      <td>/name/nm0002907/,/name/nm5301405/,/name/nm1671...</td>\n",
       "      <td>6955.0</td>\n",
       "      <td>NaN</td>\n",
       "    </tr>\n",
       "  </tbody>\n",
       "</table>\n",
       "</div>"
      ]
     },
     "execution_count": 2,
     "metadata": {},
     "output_type": "execute_result"
    }
   ],
   "execution_count": 2
  },
  {
   "metadata": {
    "ExecuteTime": {
     "end_time": "2025-03-20T12:26:02.908347Z",
     "start_time": "2025-03-20T12:26:02.905287Z"
    }
   },
   "cell_type": "code",
   "source": "data.shape",
   "id": "3f298906e710cdf9",
   "outputs": [
    {
     "data": {
      "text/plain": [
       "(36682, 14)"
      ]
     },
     "execution_count": 3,
     "metadata": {},
     "output_type": "execute_result"
    }
   ],
   "execution_count": 3
  },
  {
   "metadata": {
    "ExecuteTime": {
     "end_time": "2025-03-20T12:26:02.935218Z",
     "start_time": "2025-03-20T12:26:02.932553Z"
    }
   },
   "cell_type": "code",
   "source": [
    "def clean_descriptions(desc_col: pd.Series) -> list[str]:\n",
    "    return desc_col.str.lower().str.replace(r'[^a-zA-Z0-9\\s]', '', regex=True).str.split().str.join(' ').tolist()"
   ],
   "id": "ffbe05605ba84ee7",
   "outputs": [],
   "execution_count": 4
  },
  {
   "metadata": {
    "ExecuteTime": {
     "end_time": "2025-03-20T12:26:03.102229Z",
     "start_time": "2025-03-20T12:26:02.971647Z"
    }
   },
   "cell_type": "code",
   "source": [
    "descriptions = clean_descriptions(data['description'])\n",
    "print(descriptions[:2])"
   ],
   "id": "436509f0105678a5",
   "outputs": [
    {
     "name": "stdout",
     "output_type": "stream",
     "text": [
      "['while vacationing a girl and her parents are taken hostage by armed strangers who demand that the family make a choice to avert the apocalypse', 'a young couple travels to a remote island to eat at an exclusive restaurant where the chef has prepared a lavish menu with some shocking surprises']\n"
     ]
    }
   ],
   "execution_count": 5
  },
  {
   "metadata": {
    "ExecuteTime": {
     "end_time": "2025-03-20T12:26:03.130297Z",
     "start_time": "2025-03-20T12:26:03.113748Z"
    }
   },
   "cell_type": "code",
   "source": [
    "class DescriptionsDataset(Dataset):\n",
    "    def __get_vocab(self, words: list[str]) -> dict[str, int]:\n",
    "        vocab = {word: idx for idx, word in enumerate(words)}\n",
    "        return vocab\n",
    "\n",
    "\n",
    "    def __init__(self, preprocessed_descriptions: list[str]):\n",
    "        self.specials = ['<pad>', '<bos>', '<eos>']\n",
    "\n",
    "        self.descriptions = preprocessed_descriptions\n",
    "\n",
    "        words = list(set(word for s in preprocessed_descriptions for word in s.split())) + ['<pad>', '<bos>', '<eos>']\n",
    "        self.words = words\n",
    "        self.vocab = self.__get_vocab(words)\n",
    "\n",
    "        self.pad_index = self.vocab['<pad>']\n",
    "        self.bos_index = self.vocab['<bos>']\n",
    "        self.eos_index = self.vocab['<eos>']\n",
    "\n",
    "        self.max_len = max(len(s.split()) for s in preprocessed_descriptions) + 2\n",
    "\n",
    "\n",
    "    def __len__(self):\n",
    "        return len(self.descriptions)\n",
    "\n",
    "\n",
    "    def __str_to_idx(self, s: list[str]) -> torch.Tensor:\n",
    "        return torch.tensor([self.vocab[word] for word in s])\n",
    "\n",
    "\n",
    "    def encode(self, descr: str) -> torch.Tensor:\n",
    "        return self.__str_to_idx(['<bos>'] + descr.split() + ['<eos>'])\n",
    "\n",
    "\n",
    "    def __idx_to_str(self, idx: torch.Tensor) -> list[str]:\n",
    "        return [self.words[i] for i in idx.tolist()]\n",
    "\n",
    "\n",
    "    def decode(self, idx: torch.Tensor) -> str:\n",
    "        words = self.__idx_to_str(idx)\n",
    "        return ' '.join(w for w in words if w not in self.specials)\n",
    "\n",
    "\n",
    "    def __getitem__(self, item):\n",
    "        descr: str = self.descriptions[item]\n",
    "        descr_encoded = self.encode(descr)\n",
    "        descr_encoded_padded = torch.full((self.max_len, ), self.pad_index)\n",
    "        descr_encoded_padded[:len(descr_encoded)] = descr_encoded\n",
    "        return descr_encoded_padded, len(descr_encoded)"
   ],
   "id": "d8e2e8cc86db148b",
   "outputs": [],
   "execution_count": 6
  },
  {
   "metadata": {
    "ExecuteTime": {
     "end_time": "2025-03-20T12:26:03.242086Z",
     "start_time": "2025-03-20T12:26:03.143145Z"
    }
   },
   "cell_type": "code",
   "source": [
    "ds = DescriptionsDataset(descriptions)\n",
    "dl = DataLoader(ds, 32, True)"
   ],
   "id": "5f9de847d7d8e04b",
   "outputs": [],
   "execution_count": 7
  },
  {
   "metadata": {
    "ExecuteTime": {
     "end_time": "2025-03-20T12:26:03.255684Z",
     "start_time": "2025-03-20T12:26:03.246031Z"
    }
   },
   "cell_type": "code",
   "source": [
    "for descrs, descrs_len in dl:\n",
    "    print(descrs[:2])\n",
    "    print(descrs_len[:2])\n",
    "    break"
   ],
   "id": "1664d86b3529b863",
   "outputs": [
    {
     "name": "stdout",
     "output_type": "stream",
     "text": [
      "tensor([[37325,  8320, 28789,  6903,   871,  6556, 27723, 15231, 14143, 14980,\n",
      "          2350, 28193, 21579, 14887, 30898, 26513, 26002, 30898, 11819,  6696,\n",
      "         26513, 15315, 16701, 20232, 32265, 16610, 23832, 26097,  8320, 34078,\n",
      "         10837,  7925,   871,  1324, 30987, 25800, 37326, 37324, 37324, 37324,\n",
      "         37324, 37324, 37324, 37324, 37324, 37324, 37324, 37324, 37324, 37324,\n",
      "         37324, 37324, 37324, 37324, 37324, 37324, 37324, 37324, 37324, 37324,\n",
      "         37324, 37324, 37324, 37324, 37324, 37324, 37324, 37324, 37324, 37324,\n",
      "         37324, 37324, 37324, 37324, 37324, 37324, 37324, 37324, 37324],\n",
      "        [37325, 33279,  3089, 21579, 11629, 10837,  7925, 26593, 28963, 21746,\n",
      "         29714, 31192, 14032, 24115, 26513,  7432,  9470, 28963, 15542, 21579,\n",
      "         28584, 16948, 30898, 35237, 32021,  8938, 33279, 16886,  1130, 28046,\n",
      "          8320, 36560, 28756,  1130,  1324, 30987, 25800, 37326, 37324, 37324,\n",
      "         37324, 37324, 37324, 37324, 37324, 37324, 37324, 37324, 37324, 37324,\n",
      "         37324, 37324, 37324, 37324, 37324, 37324, 37324, 37324, 37324, 37324,\n",
      "         37324, 37324, 37324, 37324, 37324, 37324, 37324, 37324, 37324, 37324,\n",
      "         37324, 37324, 37324, 37324, 37324, 37324, 37324, 37324, 37324]])\n",
      "tensor([37, 38])\n"
     ]
    }
   ],
   "execution_count": 8
  },
  {
   "metadata": {
    "ExecuteTime": {
     "end_time": "2025-03-20T12:26:03.283830Z",
     "start_time": "2025-03-20T12:26:03.266101Z"
    }
   },
   "cell_type": "code",
   "source": [
    "device = torch.device('cuda:0' if torch.cuda.is_available() else 'cpu')\n",
    "device"
   ],
   "id": "9e204091551aab52",
   "outputs": [
    {
     "data": {
      "text/plain": [
       "device(type='cuda', index=0)"
      ]
     },
     "execution_count": 9,
     "metadata": {},
     "output_type": "execute_result"
    }
   ],
   "execution_count": 9
  },
  {
   "metadata": {
    "ExecuteTime": {
     "end_time": "2025-03-20T12:26:03.299448Z",
     "start_time": "2025-03-20T12:26:03.292578Z"
    }
   },
   "cell_type": "code",
   "source": [
    "class DescriptionGenerator(nn.Module):\n",
    "    def __init__(self, dataset: DescriptionsDataset, embed_dim=32, hidden_dim=32, max_len=None):\n",
    "        super().__init__()\n",
    "        self.embedding = nn.Embedding(\n",
    "            num_embeddings=len(dataset.vocab),\n",
    "            embedding_dim=embed_dim,\n",
    "            padding_idx=dataset.pad_index\n",
    "        )\n",
    "        self.rnn = nn.RNN(input_size=embed_dim, hidden_size=hidden_dim, batch_first=True)\n",
    "        self.linear = nn.Linear(hidden_dim, len(dataset.vocab))\n",
    "        self.dataset = dataset\n",
    "        self.max_len = dataset.max_len if max_len is None else max_len\n",
    "\n",
    "\n",
    "    def forward(self, tokens, lengths):\n",
    "        embeds = self.embedding(tokens)\n",
    "        packed_embeds = pack_padded_sequence(embeds, lengths, batch_first=True, enforce_sorted=False)\n",
    "        outputs, hidden = self.rnn(packed_embeds)\n",
    "        outputs, lengths = pad_packed_sequence(outputs, batch_first=True)\n",
    "        logits = self.linear(outputs)\n",
    "        return logits\n",
    "\n",
    "\n",
    "    @torch.no_grad()\n",
    "    def inference(self, prefix=''):\n",
    "        tokens = self.dataset.encode(prefix)[:-1].unsqueeze(0).to(device)\n",
    "\n",
    "        embeds = self.embedding(tokens)\n",
    "        output, hidden = self.rnn(embeds)\n",
    "        logits = self.linear(output)\n",
    "\n",
    "        new_tokens = Categorical(logits=logits[:, -1:]).sample()\n",
    "        tokens = torch.cat([tokens, new_tokens], dim=1)\n",
    "\n",
    "        while tokens.shape[1] < self.max_len:\n",
    "            if new_tokens.item() == self.dataset.eos_index:\n",
    "                break\n",
    "\n",
    "            embeds = self.embedding(new_tokens)\n",
    "            output, hidden = self.rnn(embeds, hidden)\n",
    "            logits = self.linear(output)\n",
    "            new_tokens = Categorical(logits=logits[:, -1:]).sample()\n",
    "            tokens = torch.cat([tokens, new_tokens], dim=1)\n",
    "\n",
    "        return self.dataset.decode(tokens.squeeze())"
   ],
   "id": "c136d7c3e84a59f6",
   "outputs": [],
   "execution_count": 10
  },
  {
   "metadata": {
    "ExecuteTime": {
     "end_time": "2025-03-20T12:26:03.935366Z",
     "start_time": "2025-03-20T12:26:03.315228Z"
    }
   },
   "cell_type": "code",
   "source": [
    "model = DescriptionGenerator(ds, embed_dim=32, hidden_dim=32).to(device)\n",
    "optimizer = torch.optim.Adam(model.parameters(), lr=1e-3)\n",
    "criterion = nn.CrossEntropyLoss(ignore_index=ds.pad_index)"
   ],
   "id": "1f60a1c2bcd95df8",
   "outputs": [],
   "execution_count": 11
  },
  {
   "metadata": {
    "ExecuteTime": {
     "end_time": "2025-03-20T12:26:04.130379Z",
     "start_time": "2025-03-20T12:26:03.938434Z"
    }
   },
   "cell_type": "code",
   "source": "[model.inference('aged') for _ in range(1)]",
   "id": "aeac8f2c5bfd2f06",
   "outputs": [
    {
     "data": {
      "text/plain": [
       "['aged caa rehabilitation zanimal technologyfree privy lending servants cbi whitecollar ran billie surgically cindys rooming terre b darkly gummi preparty keno depart nobleborn buenos rack 1341 chambers critics draken kubrick atrs loose usjapanese yue astronomers prime bandleader scientists sponsored hoffmans kaylee climbs charter juonlike ani rags battalion stepsister chineseus zee nomans mounted abbotts imran purify octogenarian vandalized sloppy gabriella seminary involved cellphones yaksha virginie infused zombiealien ethologist mctaggart mcgregor resigned humanhalf malformation diona monsour joginder mandao michela catch']"
      ]
     },
     "execution_count": 12,
     "metadata": {},
     "output_type": "execute_result"
    }
   ],
   "execution_count": 12
  },
  {
   "metadata": {
    "ExecuteTime": {
     "end_time": "2025-03-20T12:26:04.139687Z",
     "start_time": "2025-03-20T12:26:04.137382Z"
    }
   },
   "cell_type": "code",
   "source": [
    "def plot_losses(losses):\n",
    "    clear_output()\n",
    "    plt.plot(range(1, len(losses) + 1), losses)\n",
    "    plt.xlabel('epoch')\n",
    "    plt.ylabel('loss')\n",
    "    plt.show()"
   ],
   "id": "e7ca0ba1e0d07ef4",
   "outputs": [],
   "execution_count": 13
  },
  {
   "metadata": {},
   "cell_type": "code",
   "source": [
    "losses = []\n",
    "num_epochs = 100\n",
    "\n",
    "for epoch in range(1, num_epochs + 1):\n",
    "    running_loss = 0.0\n",
    "    model.train()\n",
    "    for tokens, lengths in dl:\n",
    "        optimizer.zero_grad()\n",
    "        tokens = tokens[:, :lengths.max()].to(device)\n",
    "        logits = model(tokens[:, :-1], lengths - 1)\n",
    "        loss = criterion(logits.transpose(1, 2), tokens[:, 1:])\n",
    "        loss.backward()\n",
    "        optimizer.step()\n",
    "\n",
    "        running_loss += loss.item() * tokens.shape[0]\n",
    "\n",
    "    losses += [running_loss / len(ds)]\n",
    "\n",
    "    if epoch % 10 == 0:\n",
    "        print(epoch)\n",
    "        plot_losses(losses)"
   ],
   "id": "ea11eca40a9d700b",
   "execution_count": 14,
   "outputs": [
    {
     "data": {
      "text/plain": [
       "<Figure size 640x480 with 1 Axes>"
      ],
      "image/png": "[encoded data removed]"
     },
     "metadata": {},
     "output_type": "display_data"
    }
   ]
  },
  {
   "metadata": {
    "ExecuteTime": {
     "end_time": "2025-03-20T12:54:56.572427Z",
     "start_time": "2025-03-20T12:54:56.562098Z"
    }
   },
   "cell_type": "code",
   "source": "[model.inference() for _ in range(1)]",
   "id": "9f15ee850407a5ad",
   "outputs": [
    {
     "data": {
      "text/plain": [
       "['the workers of our urban hustler spanish plus spirits killer']"
      ]
     },
     "execution_count": 15,
     "metadata": {},
     "output_type": "execute_result"
    }
   ],
   "execution_count": 15
  },
  {
   "metadata": {
    "ExecuteTime": {
     "end_time": "2025-03-20T12:54:56.690710Z",
     "start_time": "2025-03-20T12:54:56.650443Z"
    }
   },
   "cell_type": "code",
   "source": "[model.inference('aged') for _ in range(1)]",
   "id": "2d87568e95f94c08",
   "outputs": [
    {
     "data": {
      "text/plain": [
       "['aged psychic legion of zombie serpent chooses for the second but no remorse for ghosts as he sleeps they quickly with a true ghost follow the two drunken father disappeared night you spent their first date they days strip home and try to reconcile the story of reallife and killer he will survive before hes a more hidden entity leaves they has a devil karimutheyvayanadan thamban investigates the events but is about a secret and supernatural mysterious movie']"
      ]
     },
     "execution_count": 16,
     "metadata": {},
     "output_type": "execute_result"
    }
   ],
   "execution_count": 16
  },
  {
   "metadata": {
    "ExecuteTime": {
     "end_time": "2025-03-20T13:18:05.723892Z",
     "start_time": "2025-03-20T13:18:05.676146Z"
    }
   },
   "cell_type": "code",
   "source": "torch.save(model, 'model.pt')",
   "id": "198c42623dc85779",
   "outputs": [],
   "execution_count": 18
  },
  {
   "metadata": {
    "ExecuteTime": {
     "end_time": "2025-03-20T12:54:56.790609Z",
     "start_time": "2025-03-20T12:54:56.788562Z"
    }
   },
   "cell_type": "code",
   "source": "",
   "id": "16d890d0a6ee7c99",
   "outputs": [],
   "execution_count": null
  }
 ],
 "metadata": {
  "kernelspec": {
   "display_name": "Python 3",
   "language": "python",
   "name": "python3"
  },
  "language_info": {
   "codemirror_mode": {
    "name": "ipython",
    "version": 2
   },
   "file_extension": ".py",
   "mimetype": "text/x-python",
   "name": "python",
   "nbconvert_exporter": "python",
   "pygments_lexer": "ipython2",
   "version": "2.7.6"
  }
 },
 "nbformat": 4,
 "nbformat_minor": 5
}
